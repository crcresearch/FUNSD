{
 "cells": [
  {
   "cell_type": "markdown",
   "metadata": {},
   "source": [
    "# Generating Azure OCR annotations for the FUNSD+ dataset"
   ]
  },
  {
   "cell_type": "markdown",
   "metadata": {},
   "source": [
    "## Import modules and load environment variables"
   ]
  },
  {
   "cell_type": "code",
   "execution_count": 1,
   "metadata": {},
   "outputs": [],
   "source": [
    "import os, sys\n",
    "sys.path.append('../src')\n",
    "from utils import *\n",
    "from azure_utils import *\n",
    "from dotenv import load_dotenv\n",
    "\n",
    "# Load the environment variables\n",
    "load_dotenv()\n",
    "endpoint = os.getenv('AZURE_OCR_ENDPOINT')\n",
    "key = os.getenv('AZURE_OCR_KEY')"
   ]
  },
  {
   "cell_type": "markdown",
   "metadata": {},
   "source": [
    "## Parameters"
   ]
  },
  {
   "cell_type": "code",
   "execution_count": 2,
   "metadata": {},
   "outputs": [],
   "source": [
    "# Define the dataset URL and root directory\n",
    "DATASET_URL = 'https://www.crc.nd.edu/~akuehlka/funsd_plus/images'\n",
    "DATASET_ROOT = '/Users/akuehlka/work/crc/FUNSD/datasets/funsd_plus/'\n",
    "\n",
    "# Training data directories\n",
    "TRAIN_DIR = os.path.join(DATASET_ROOT, 'training_data')\n",
    "TRAIN_ANNOT_DIR = os.path.join(TRAIN_DIR, 'annotations')\n",
    "TRAIN_IMG_DIR = os.path.join(TRAIN_DIR, 'images')\n",
    "TRAIN_IMG_URL = f\"{DATASET_URL}/training_data/images/\"\n",
    "\n",
    "# Testing data directories\n",
    "TEST_DIR = os.path.join(DATASET_ROOT, 'testing_data')\n",
    "TEST_ANNOT_DIR = os.path.join(TEST_DIR, 'annotations')\n",
    "TEST_IMG_DIR = os.path.join(TEST_DIR, 'images')\n",
    "TEST_IMG_URL = f\"{DATASET_URL}/testing_data/images/\""
   ]
  },
  {
   "cell_type": "markdown",
   "metadata": {},
   "source": [
    "## Generate OCR annotations for the FUNSD Training dataset"
   ]
  },
  {
   "cell_type": "code",
   "execution_count": 3,
   "metadata": {},
   "outputs": [
    {
     "name": "stdout",
     "output_type": "stream",
     "text": [
      "Annotations saved to: /Users/akuehlka/work/crc/FUNSD/datasets/funsd_plus/training_data/annotations_azure_model__prebuilt_read/hw_annotations.csv\n"
     ]
    }
   ],
   "source": [
    "# Main execution\n",
    "\n",
    "# Define the dataset directories\n",
    "dataset_dir = TRAIN_DIR\n",
    "annot_dir = TRAIN_ANNOT_DIR\n",
    "img_dir = TRAIN_IMG_DIR\n",
    "img_url = TRAIN_IMG_URL\n",
    "\n",
    "# Define Prebuilt model ID\n",
    "model_id = \"prebuilt-read\"\n",
    "\n",
    "# Create the directory to save the annotations\n",
    "azure_annot_dir = os.path.join(dataset_dir, f\"annotations_azure_model__{model_id.replace('-','_')}\")\n",
    "os.makedirs(azure_annot_dir, exist_ok=True)\n",
    "\n",
    "# Initialize the client\n",
    "client = initialize_client(endpoint, key)\n",
    "\n",
    "# Generate the image URLs to analyze\n",
    "form_urls = [os.path.join(DATASET_URL, os.path.basename(f)) for f in glob.glob(os.path.join(TRAIN_IMG_DIR, 'train*.png'))]\n",
    "#generate_image_urls(img_dir, img_url)\n",
    "\n",
    "# Analyze the documents and save annotations\n",
    "for form_url in form_urls:\n",
    "    \n",
    "    annotations_fpath = os.path.join(azure_annot_dir, f\"{os.path.basename(form_url).split('.')[0]}.json\")\n",
    "    if not os.path.exists(annotations_fpath):\n",
    "        # Analyze the document\n",
    "        result, status = analyze_document(form_url, client, model_id)\n",
    "\n",
    "        # Save the result to a JSON file\n",
    "        save_result_to_json(result, annotations_fpath)\n",
    "\n",
    "output_csv, _ = process_and_save_annotations(azure_annot_dir)\n",
    "print(f\"Annotations saved to: {output_csv}\")\n"
   ]
  },
  {
   "cell_type": "markdown",
   "metadata": {},
   "source": [
    "## Generate OCR annotations for the FUNSD Testing dataset"
   ]
  },
  {
   "cell_type": "code",
   "execution_count": 5,
   "metadata": {},
   "outputs": [
    {
     "name": "stdout",
     "output_type": "stream",
     "text": [
      "Annotations saved to: /Users/akuehlka/work/crc/FUNSD/datasets/funsd_plus/testing_data/annotations_azure_model__prebuilt_read/hw_annotations.csv\n"
     ]
    }
   ],
   "source": [
    "# Main execution\n",
    "\n",
    "# Define the dataset directories\n",
    "dataset_dir = TEST_DIR\n",
    "annot_dir = TEST_ANNOT_DIR\n",
    "img_dir = TEST_IMG_DIR\n",
    "img_url = TEST_IMG_URL\n",
    "\n",
    "# Define Prebuilt model ID\n",
    "model_id = \"prebuilt-read\"\n",
    "\n",
    "# Create the directory to save the annotations\n",
    "azure_annot_dir = os.path.join(dataset_dir, f\"annotations_azure_model__{model_id.replace('-','_')}\")\n",
    "os.makedirs(azure_annot_dir, exist_ok=True)\n",
    "\n",
    "# Initialize the client\n",
    "client = initialize_client(endpoint, key)\n",
    "\n",
    "# Generate the image URLs to analyze\n",
    "form_urls = [os.path.join(DATASET_URL, os.path.basename(f)) for f in glob.glob(os.path.join(TEST_IMG_DIR, '*.png'))]\n",
    "\n",
    "# Analyze the documents and save annotations\n",
    "for form_url in form_urls:\n",
    "    \n",
    "    annotations_fpath = os.path.join(azure_annot_dir, f\"{os.path.basename(form_url).split('.')[0]}.json\")\n",
    "    if not os.path.exists(annotations_fpath):\n",
    "        # Analyze the document\n",
    "        result, status = analyze_document(form_url, client, model_id)\n",
    "\n",
    "        # Save the result to a JSON file\n",
    "        save_result_to_json(result, annotations_fpath)\n",
    "\n",
    "output_csv, df = process_and_save_annotations(azure_annot_dir)\n",
    "print(f\"Annotations saved to: {output_csv}\")\n"
   ]
  }
 ],
 "metadata": {
  "kernelspec": {
   "display_name": ".venv",
   "language": "python",
   "name": "python3"
  },
  "language_info": {
   "codemirror_mode": {
    "name": "ipython",
    "version": 3
   },
   "file_extension": ".py",
   "mimetype": "text/x-python",
   "name": "python",
   "nbconvert_exporter": "python",
   "pygments_lexer": "ipython3",
   "version": "3.10.14"
  }
 },
 "nbformat": 4,
 "nbformat_minor": 2
}
